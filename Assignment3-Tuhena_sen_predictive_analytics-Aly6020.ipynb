{
 "cells": [
  {
   "cell_type": "code",
   "execution_count": 4,
   "metadata": {},
   "outputs": [],
   "source": [
    "import pandas as pd\n",
    "import numpy as np\n",
    "from math import *\n",
    "from sklearn.ensemble import RandomForestClassifier"
   ]
  },
  {
   "cell_type": "code",
   "execution_count": 22,
   "metadata": {
    "scrolled": true
   },
   "outputs": [
    {
     "data": {
      "text/html": [
       "<div>\n",
       "<style scoped>\n",
       "    .dataframe tbody tr th:only-of-type {\n",
       "        vertical-align: middle;\n",
       "    }\n",
       "\n",
       "    .dataframe tbody tr th {\n",
       "        vertical-align: top;\n",
       "    }\n",
       "\n",
       "    .dataframe thead th {\n",
       "        text-align: right;\n",
       "    }\n",
       "</style>\n",
       "<table border=\"1\" class=\"dataframe\">\n",
       "  <thead>\n",
       "    <tr style=\"text-align: right;\">\n",
       "      <th></th>\n",
       "      <th>0</th>\n",
       "      <th>1</th>\n",
       "      <th>2</th>\n",
       "      <th>3</th>\n",
       "      <th>4</th>\n",
       "      <th>5</th>\n",
       "      <th>6</th>\n",
       "      <th>7</th>\n",
       "      <th>8</th>\n",
       "      <th>9</th>\n",
       "      <th>...</th>\n",
       "      <th>122</th>\n",
       "      <th>123</th>\n",
       "      <th>124</th>\n",
       "      <th>125</th>\n",
       "      <th>126</th>\n",
       "      <th>127</th>\n",
       "      <th>128</th>\n",
       "      <th>129</th>\n",
       "      <th>130</th>\n",
       "      <th>131</th>\n",
       "    </tr>\n",
       "  </thead>\n",
       "  <tbody>\n",
       "    <tr>\n",
       "      <th>0</th>\n",
       "      <td>1.0</td>\n",
       "      <td>-0.247592</td>\n",
       "      <td>-0.332503</td>\n",
       "      <td>-0.632105</td>\n",
       "      <td>-1.024779</td>\n",
       "      <td>-1.426342</td>\n",
       "      <td>-1.580426</td>\n",
       "      <td>-1.336747</td>\n",
       "      <td>-1.060614</td>\n",
       "      <td>-0.723881</td>\n",
       "      <td>...</td>\n",
       "      <td>-0.582323</td>\n",
       "      <td>-0.273452</td>\n",
       "      <td>-0.077336</td>\n",
       "      <td>-0.119991</td>\n",
       "      <td>-0.350027</td>\n",
       "      <td>-0.490925</td>\n",
       "      <td>-0.142705</td>\n",
       "      <td>0.027710</td>\n",
       "      <td>0.090790</td>\n",
       "      <td>-0.327312</td>\n",
       "    </tr>\n",
       "    <tr>\n",
       "      <th>1</th>\n",
       "      <td>1.0</td>\n",
       "      <td>-0.641577</td>\n",
       "      <td>-0.939420</td>\n",
       "      <td>-1.300174</td>\n",
       "      <td>-1.385949</td>\n",
       "      <td>-1.269212</td>\n",
       "      <td>-1.036537</td>\n",
       "      <td>-0.758694</td>\n",
       "      <td>-0.631150</td>\n",
       "      <td>-0.581992</td>\n",
       "      <td>...</td>\n",
       "      <td>-0.141491</td>\n",
       "      <td>-0.607773</td>\n",
       "      <td>-0.939176</td>\n",
       "      <td>-0.640406</td>\n",
       "      <td>-0.191614</td>\n",
       "      <td>0.062604</td>\n",
       "      <td>0.030992</td>\n",
       "      <td>-0.388804</td>\n",
       "      <td>-0.581837</td>\n",
       "      <td>-0.248630</td>\n",
       "    </tr>\n",
       "    <tr>\n",
       "      <th>2</th>\n",
       "      <td>1.0</td>\n",
       "      <td>-1.672048</td>\n",
       "      <td>-1.881515</td>\n",
       "      <td>-2.090981</td>\n",
       "      <td>-1.697734</td>\n",
       "      <td>-1.295070</td>\n",
       "      <td>-0.822547</td>\n",
       "      <td>-0.347806</td>\n",
       "      <td>0.737430</td>\n",
       "      <td>1.852206</td>\n",
       "      <td>...</td>\n",
       "      <td>-0.298466</td>\n",
       "      <td>0.058114</td>\n",
       "      <td>0.370807</td>\n",
       "      <td>0.014227</td>\n",
       "      <td>-0.325895</td>\n",
       "      <td>-0.325895</td>\n",
       "      <td>-0.325895</td>\n",
       "      <td>-0.325895</td>\n",
       "      <td>-0.325895</td>\n",
       "      <td>-0.325895</td>\n",
       "    </tr>\n",
       "    <tr>\n",
       "      <th>3</th>\n",
       "      <td>1.0</td>\n",
       "      <td>-0.463782</td>\n",
       "      <td>-1.111783</td>\n",
       "      <td>-1.747124</td>\n",
       "      <td>-2.112366</td>\n",
       "      <td>-2.409313</td>\n",
       "      <td>-2.011936</td>\n",
       "      <td>-1.557494</td>\n",
       "      <td>-0.735304</td>\n",
       "      <td>0.059425</td>\n",
       "      <td>...</td>\n",
       "      <td>-0.114010</td>\n",
       "      <td>-0.061193</td>\n",
       "      <td>-0.062250</td>\n",
       "      <td>-0.062439</td>\n",
       "      <td>-0.062439</td>\n",
       "      <td>-0.370382</td>\n",
       "      <td>-0.726110</td>\n",
       "      <td>-0.760803</td>\n",
       "      <td>-0.763920</td>\n",
       "      <td>-0.763920</td>\n",
       "    </tr>\n",
       "    <tr>\n",
       "      <th>4</th>\n",
       "      <td>1.0</td>\n",
       "      <td>-0.764739</td>\n",
       "      <td>-1.118529</td>\n",
       "      <td>-1.464805</td>\n",
       "      <td>-1.650747</td>\n",
       "      <td>-1.790880</td>\n",
       "      <td>-1.465283</td>\n",
       "      <td>-1.153654</td>\n",
       "      <td>-0.932041</td>\n",
       "      <td>-0.664873</td>\n",
       "      <td>...</td>\n",
       "      <td>-0.229956</td>\n",
       "      <td>-0.372712</td>\n",
       "      <td>-0.489895</td>\n",
       "      <td>-0.414688</td>\n",
       "      <td>-0.297505</td>\n",
       "      <td>-0.178539</td>\n",
       "      <td>-0.059297</td>\n",
       "      <td>-0.265746</td>\n",
       "      <td>-0.504230</td>\n",
       "      <td>-0.504230</td>\n",
       "    </tr>\n",
       "    <tr>\n",
       "      <th>...</th>\n",
       "      <td>...</td>\n",
       "      <td>...</td>\n",
       "      <td>...</td>\n",
       "      <td>...</td>\n",
       "      <td>...</td>\n",
       "      <td>...</td>\n",
       "      <td>...</td>\n",
       "      <td>...</td>\n",
       "      <td>...</td>\n",
       "      <td>...</td>\n",
       "      <td>...</td>\n",
       "      <td>...</td>\n",
       "      <td>...</td>\n",
       "      <td>...</td>\n",
       "      <td>...</td>\n",
       "      <td>...</td>\n",
       "      <td>...</td>\n",
       "      <td>...</td>\n",
       "      <td>...</td>\n",
       "      <td>...</td>\n",
       "      <td>...</td>\n",
       "    </tr>\n",
       "    <tr>\n",
       "      <th>555</th>\n",
       "      <td>14.0</td>\n",
       "      <td>-0.731943</td>\n",
       "      <td>-0.927104</td>\n",
       "      <td>-0.975179</td>\n",
       "      <td>-0.880569</td>\n",
       "      <td>-0.540094</td>\n",
       "      <td>0.039170</td>\n",
       "      <td>0.613808</td>\n",
       "      <td>1.000824</td>\n",
       "      <td>1.142882</td>\n",
       "      <td>...</td>\n",
       "      <td>0.345136</td>\n",
       "      <td>0.532939</td>\n",
       "      <td>0.237443</td>\n",
       "      <td>-0.104049</td>\n",
       "      <td>-0.110769</td>\n",
       "      <td>0.075533</td>\n",
       "      <td>0.244013</td>\n",
       "      <td>0.282945</td>\n",
       "      <td>0.341504</td>\n",
       "      <td>0.433592</td>\n",
       "    </tr>\n",
       "    <tr>\n",
       "      <th>556</th>\n",
       "      <td>14.0</td>\n",
       "      <td>-0.735390</td>\n",
       "      <td>-1.387504</td>\n",
       "      <td>-1.678834</td>\n",
       "      <td>-1.386017</td>\n",
       "      <td>-0.531505</td>\n",
       "      <td>0.226435</td>\n",
       "      <td>0.588829</td>\n",
       "      <td>0.812825</td>\n",
       "      <td>0.980297</td>\n",
       "      <td>...</td>\n",
       "      <td>0.575592</td>\n",
       "      <td>0.377690</td>\n",
       "      <td>0.520676</td>\n",
       "      <td>0.079867</td>\n",
       "      <td>-0.448830</td>\n",
       "      <td>-0.889983</td>\n",
       "      <td>-1.549666</td>\n",
       "      <td>-1.860682</td>\n",
       "      <td>-1.630553</td>\n",
       "      <td>-0.826028</td>\n",
       "    </tr>\n",
       "    <tr>\n",
       "      <th>557</th>\n",
       "      <td>14.0</td>\n",
       "      <td>-0.580100</td>\n",
       "      <td>-0.915370</td>\n",
       "      <td>-1.203521</td>\n",
       "      <td>-1.196312</td>\n",
       "      <td>-0.886369</td>\n",
       "      <td>-0.516650</td>\n",
       "      <td>-0.226453</td>\n",
       "      <td>-0.044309</td>\n",
       "      <td>0.308878</td>\n",
       "      <td>...</td>\n",
       "      <td>0.350632</td>\n",
       "      <td>0.819535</td>\n",
       "      <td>1.006121</td>\n",
       "      <td>1.186400</td>\n",
       "      <td>1.332826</td>\n",
       "      <td>0.826573</td>\n",
       "      <td>-0.200211</td>\n",
       "      <td>-1.297831</td>\n",
       "      <td>-1.458397</td>\n",
       "      <td>-0.873657</td>\n",
       "    </tr>\n",
       "    <tr>\n",
       "      <th>558</th>\n",
       "      <td>14.0</td>\n",
       "      <td>-0.496673</td>\n",
       "      <td>-0.914445</td>\n",
       "      <td>-1.255357</td>\n",
       "      <td>-1.115175</td>\n",
       "      <td>-0.800954</td>\n",
       "      <td>-0.436291</td>\n",
       "      <td>-0.295573</td>\n",
       "      <td>-0.050966</td>\n",
       "      <td>0.330974</td>\n",
       "      <td>...</td>\n",
       "      <td>1.049078</td>\n",
       "      <td>1.154665</td>\n",
       "      <td>0.964952</td>\n",
       "      <td>0.632890</td>\n",
       "      <td>0.030704</td>\n",
       "      <td>-0.348415</td>\n",
       "      <td>-0.507611</td>\n",
       "      <td>-0.575323</td>\n",
       "      <td>-1.077595</td>\n",
       "      <td>-1.595360</td>\n",
       "    </tr>\n",
       "    <tr>\n",
       "      <th>559</th>\n",
       "      <td>14.0</td>\n",
       "      <td>-1.374355</td>\n",
       "      <td>-1.217457</td>\n",
       "      <td>-0.655288</td>\n",
       "      <td>-0.199584</td>\n",
       "      <td>-0.006927</td>\n",
       "      <td>0.068586</td>\n",
       "      <td>0.288190</td>\n",
       "      <td>0.561241</td>\n",
       "      <td>0.788686</td>\n",
       "      <td>...</td>\n",
       "      <td>-1.240813</td>\n",
       "      <td>1.306336</td>\n",
       "      <td>1.451640</td>\n",
       "      <td>-0.071775</td>\n",
       "      <td>-2.178860</td>\n",
       "      <td>-2.713232</td>\n",
       "      <td>-0.759848</td>\n",
       "      <td>1.881467</td>\n",
       "      <td>2.623742</td>\n",
       "      <td>0.833243</td>\n",
       "    </tr>\n",
       "  </tbody>\n",
       "</table>\n",
       "<p>560 rows × 132 columns</p>\n",
       "</div>"
      ],
      "text/plain": [
       "      0         1         2         3         4         5         6    \\\n",
       "0     1.0 -0.247592 -0.332503 -0.632105 -1.024779 -1.426342 -1.580426   \n",
       "1     1.0 -0.641577 -0.939420 -1.300174 -1.385949 -1.269212 -1.036537   \n",
       "2     1.0 -1.672048 -1.881515 -2.090981 -1.697734 -1.295070 -0.822547   \n",
       "3     1.0 -0.463782 -1.111783 -1.747124 -2.112366 -2.409313 -2.011936   \n",
       "4     1.0 -0.764739 -1.118529 -1.464805 -1.650747 -1.790880 -1.465283   \n",
       "..    ...       ...       ...       ...       ...       ...       ...   \n",
       "555  14.0 -0.731943 -0.927104 -0.975179 -0.880569 -0.540094  0.039170   \n",
       "556  14.0 -0.735390 -1.387504 -1.678834 -1.386017 -0.531505  0.226435   \n",
       "557  14.0 -0.580100 -0.915370 -1.203521 -1.196312 -0.886369 -0.516650   \n",
       "558  14.0 -0.496673 -0.914445 -1.255357 -1.115175 -0.800954 -0.436291   \n",
       "559  14.0 -1.374355 -1.217457 -0.655288 -0.199584 -0.006927  0.068586   \n",
       "\n",
       "          7         8         9    ...       122       123       124  \\\n",
       "0   -1.336747 -1.060614 -0.723881  ... -0.582323 -0.273452 -0.077336   \n",
       "1   -0.758694 -0.631150 -0.581992  ... -0.141491 -0.607773 -0.939176   \n",
       "2   -0.347806  0.737430  1.852206  ... -0.298466  0.058114  0.370807   \n",
       "3   -1.557494 -0.735304  0.059425  ... -0.114010 -0.061193 -0.062250   \n",
       "4   -1.153654 -0.932041 -0.664873  ... -0.229956 -0.372712 -0.489895   \n",
       "..        ...       ...       ...  ...       ...       ...       ...   \n",
       "555  0.613808  1.000824  1.142882  ...  0.345136  0.532939  0.237443   \n",
       "556  0.588829  0.812825  0.980297  ...  0.575592  0.377690  0.520676   \n",
       "557 -0.226453 -0.044309  0.308878  ...  0.350632  0.819535  1.006121   \n",
       "558 -0.295573 -0.050966  0.330974  ...  1.049078  1.154665  0.964952   \n",
       "559  0.288190  0.561241  0.788686  ... -1.240813  1.306336  1.451640   \n",
       "\n",
       "          125       126       127       128       129       130       131  \n",
       "0   -0.119991 -0.350027 -0.490925 -0.142705  0.027710  0.090790 -0.327312  \n",
       "1   -0.640406 -0.191614  0.062604  0.030992 -0.388804 -0.581837 -0.248630  \n",
       "2    0.014227 -0.325895 -0.325895 -0.325895 -0.325895 -0.325895 -0.325895  \n",
       "3   -0.062439 -0.062439 -0.370382 -0.726110 -0.760803 -0.763920 -0.763920  \n",
       "4   -0.414688 -0.297505 -0.178539 -0.059297 -0.265746 -0.504230 -0.504230  \n",
       "..        ...       ...       ...       ...       ...       ...       ...  \n",
       "555 -0.104049 -0.110769  0.075533  0.244013  0.282945  0.341504  0.433592  \n",
       "556  0.079867 -0.448830 -0.889983 -1.549666 -1.860682 -1.630553 -0.826028  \n",
       "557  1.186400  1.332826  0.826573 -0.200211 -1.297831 -1.458397 -0.873657  \n",
       "558  0.632890  0.030704 -0.348415 -0.507611 -0.575323 -1.077595 -1.595360  \n",
       "559 -0.071775 -2.178860 -2.713232 -0.759848  1.881467  2.623742  0.833243  \n",
       "\n",
       "[560 rows x 132 columns]"
      ]
     },
     "execution_count": 22,
     "metadata": {},
     "output_type": "execute_result"
    }
   ],
   "source": [
    "#Importing train and test data\n",
    "test_df = pd.read_csv('/Users/tuhenasen/Downloads/FaceAll/FaceAll_TEST.txt',delimiter='\\s+', header=None)\n",
    "train_df = pd.read_csv('/Users/tuhenasen/Downloads/FaceAll/FaceAll_TRAIN.txt', delimiter='\\s+',header=None)\n",
    "train_df"
   ]
  },
  {
   "cell_type": "code",
   "execution_count": 58,
   "metadata": {},
   "outputs": [],
   "source": [
    "#Creating train x and y and test x and y\n",
    "\n",
    "train_x = train_df.drop(train_df.columns[0], axis = 1)\n",
    "train_y = train_df.iloc[:,0]\n",
    "test_x = test_df.drop(train_df.columns[0], axis = 1)\n",
    "test_y = test_df.iloc[:,0]\n"
   ]
  },
  {
   "cell_type": "code",
   "execution_count": 24,
   "metadata": {},
   "outputs": [
    {
     "data": {
      "text/plain": [
       "RandomForestClassifier(bootstrap=True, ccp_alpha=0.0, class_weight=None,\n",
       "                       criterion='gini', max_depth=None, max_features='auto',\n",
       "                       max_leaf_nodes=None, max_samples=None,\n",
       "                       min_impurity_decrease=0.0, min_impurity_split=None,\n",
       "                       min_samples_leaf=1, min_samples_split=2,\n",
       "                       min_weight_fraction_leaf=0.0, n_estimators=10,\n",
       "                       n_jobs=None, oob_score=False, random_state=None,\n",
       "                       verbose=0, warm_start=False)"
      ]
     },
     "execution_count": 24,
     "metadata": {},
     "output_type": "execute_result"
    }
   ],
   "source": [
    "model1= RandomForestClassifier(n_estimators=10,min_samples_leaf = 1)\n",
    "model1.fit(train_x,train_y)\n",
    "\n"
   ]
  },
  {
   "cell_type": "code",
   "execution_count": 25,
   "metadata": {},
   "outputs": [
    {
     "data": {
      "text/plain": [
       "0.6082840236686391"
      ]
     },
     "execution_count": 25,
     "metadata": {},
     "output_type": "execute_result"
    }
   ],
   "source": [
    "model1.score(test_x,test_y)"
   ]
  },
  {
   "cell_type": "code",
   "execution_count": 26,
   "metadata": {},
   "outputs": [
    {
     "data": {
      "text/plain": [
       "RandomForestClassifier(bootstrap=True, ccp_alpha=0.0, class_weight=None,\n",
       "                       criterion='gini', max_depth=None, max_features='auto',\n",
       "                       max_leaf_nodes=None, max_samples=None,\n",
       "                       min_impurity_decrease=0.0, min_impurity_split=None,\n",
       "                       min_samples_leaf=10, min_samples_split=2,\n",
       "                       min_weight_fraction_leaf=0.0, n_estimators=10,\n",
       "                       n_jobs=None, oob_score=False, random_state=None,\n",
       "                       verbose=0, warm_start=False)"
      ]
     },
     "execution_count": 26,
     "metadata": {},
     "output_type": "execute_result"
    }
   ],
   "source": [
    "model2= RandomForestClassifier(n_estimators=10,min_samples_leaf = 10)\n",
    "model2.fit(train_x,train_y)"
   ]
  },
  {
   "cell_type": "code",
   "execution_count": 27,
   "metadata": {},
   "outputs": [
    {
     "data": {
      "text/plain": [
       "0.6224852071005917"
      ]
     },
     "execution_count": 27,
     "metadata": {},
     "output_type": "execute_result"
    }
   ],
   "source": [
    "model2.score(test_x,test_y)"
   ]
  },
  {
   "cell_type": "code",
   "execution_count": 28,
   "metadata": {},
   "outputs": [
    {
     "data": {
      "text/plain": [
       "RandomForestClassifier(bootstrap=True, ccp_alpha=0.0, class_weight=None,\n",
       "                       criterion='gini', max_depth=None, max_features='auto',\n",
       "                       max_leaf_nodes=None, max_samples=None,\n",
       "                       min_impurity_decrease=0.0, min_impurity_split=None,\n",
       "                       min_samples_leaf=20, min_samples_split=2,\n",
       "                       min_weight_fraction_leaf=0.0, n_estimators=10,\n",
       "                       n_jobs=None, oob_score=False, random_state=None,\n",
       "                       verbose=0, warm_start=False)"
      ]
     },
     "execution_count": 28,
     "metadata": {},
     "output_type": "execute_result"
    }
   ],
   "source": [
    "model3= RandomForestClassifier(n_estimators=10,min_samples_leaf = 20)\n",
    "model3.fit(train_x,train_y)"
   ]
  },
  {
   "cell_type": "code",
   "execution_count": 29,
   "metadata": {},
   "outputs": [
    {
     "data": {
      "text/plain": [
       "0.5763313609467455"
      ]
     },
     "execution_count": 29,
     "metadata": {},
     "output_type": "execute_result"
    }
   ],
   "source": [
    "model3.score(test_x,test_y)"
   ]
  },
  {
   "cell_type": "code",
   "execution_count": 30,
   "metadata": {},
   "outputs": [
    {
     "data": {
      "text/plain": [
       "RandomForestClassifier(bootstrap=True, ccp_alpha=0.0, class_weight=None,\n",
       "                       criterion='gini', max_depth=None, max_features='auto',\n",
       "                       max_leaf_nodes=None, max_samples=None,\n",
       "                       min_impurity_decrease=0.0, min_impurity_split=None,\n",
       "                       min_samples_leaf=1, min_samples_split=2,\n",
       "                       min_weight_fraction_leaf=0.0, n_estimators=50,\n",
       "                       n_jobs=None, oob_score=False, random_state=None,\n",
       "                       verbose=0, warm_start=False)"
      ]
     },
     "execution_count": 30,
     "metadata": {},
     "output_type": "execute_result"
    }
   ],
   "source": [
    "model4= RandomForestClassifier(n_estimators=50,min_samples_leaf = 1)\n",
    "model4.fit(train_x,train_y)"
   ]
  },
  {
   "cell_type": "code",
   "execution_count": 31,
   "metadata": {},
   "outputs": [
    {
     "data": {
      "text/plain": [
       "0.806508875739645"
      ]
     },
     "execution_count": 31,
     "metadata": {},
     "output_type": "execute_result"
    }
   ],
   "source": [
    "model4.score(test_x,test_y)"
   ]
  },
  {
   "cell_type": "code",
   "execution_count": 32,
   "metadata": {},
   "outputs": [
    {
     "data": {
      "text/plain": [
       "RandomForestClassifier(bootstrap=True, ccp_alpha=0.0, class_weight=None,\n",
       "                       criterion='gini', max_depth=None, max_features='auto',\n",
       "                       max_leaf_nodes=None, max_samples=None,\n",
       "                       min_impurity_decrease=0.0, min_impurity_split=None,\n",
       "                       min_samples_leaf=10, min_samples_split=2,\n",
       "                       min_weight_fraction_leaf=0.0, n_estimators=50,\n",
       "                       n_jobs=None, oob_score=False, random_state=None,\n",
       "                       verbose=0, warm_start=False)"
      ]
     },
     "execution_count": 32,
     "metadata": {},
     "output_type": "execute_result"
    }
   ],
   "source": [
    "model5= RandomForestClassifier(n_estimators=50,min_samples_leaf = 10)\n",
    "model5.fit(train_x,train_y)"
   ]
  },
  {
   "cell_type": "code",
   "execution_count": 33,
   "metadata": {},
   "outputs": [
    {
     "data": {
      "text/plain": [
       "0.7609467455621302"
      ]
     },
     "execution_count": 33,
     "metadata": {},
     "output_type": "execute_result"
    }
   ],
   "source": [
    "model5.score(test_x,test_y)"
   ]
  },
  {
   "cell_type": "code",
   "execution_count": 34,
   "metadata": {},
   "outputs": [
    {
     "data": {
      "text/plain": [
       "RandomForestClassifier(bootstrap=True, ccp_alpha=0.0, class_weight=None,\n",
       "                       criterion='gini', max_depth=None, max_features='auto',\n",
       "                       max_leaf_nodes=None, max_samples=None,\n",
       "                       min_impurity_decrease=0.0, min_impurity_split=None,\n",
       "                       min_samples_leaf=20, min_samples_split=2,\n",
       "                       min_weight_fraction_leaf=0.0, n_estimators=50,\n",
       "                       n_jobs=None, oob_score=False, random_state=None,\n",
       "                       verbose=0, warm_start=False)"
      ]
     },
     "execution_count": 34,
     "metadata": {},
     "output_type": "execute_result"
    }
   ],
   "source": [
    "model6= RandomForestClassifier(n_estimators=50,min_samples_leaf = 20)\n",
    "model6.fit(train_x,train_y)"
   ]
  },
  {
   "cell_type": "code",
   "execution_count": 35,
   "metadata": {},
   "outputs": [
    {
     "data": {
      "text/plain": [
       "0.6171597633136094"
      ]
     },
     "execution_count": 35,
     "metadata": {},
     "output_type": "execute_result"
    }
   ],
   "source": [
    "model6.score(test_x,test_y)"
   ]
  },
  {
   "cell_type": "code",
   "execution_count": 36,
   "metadata": {},
   "outputs": [
    {
     "data": {
      "text/plain": [
       "RandomForestClassifier(bootstrap=True, ccp_alpha=0.0, class_weight=None,\n",
       "                       criterion='gini', max_depth=None, max_features='auto',\n",
       "                       max_leaf_nodes=None, max_samples=None,\n",
       "                       min_impurity_decrease=0.0, min_impurity_split=None,\n",
       "                       min_samples_leaf=1, min_samples_split=2,\n",
       "                       min_weight_fraction_leaf=0.0, n_estimators=100,\n",
       "                       n_jobs=None, oob_score=False, random_state=None,\n",
       "                       verbose=0, warm_start=False)"
      ]
     },
     "execution_count": 36,
     "metadata": {},
     "output_type": "execute_result"
    }
   ],
   "source": [
    "model7= RandomForestClassifier(n_estimators=100,min_samples_leaf = 1)\n",
    "model7.fit(train_x,train_y)"
   ]
  },
  {
   "cell_type": "code",
   "execution_count": 37,
   "metadata": {},
   "outputs": [
    {
     "data": {
      "text/plain": [
       "0.7674556213017751"
      ]
     },
     "execution_count": 37,
     "metadata": {},
     "output_type": "execute_result"
    }
   ],
   "source": [
    "model7.score(test_x,test_y)"
   ]
  },
  {
   "cell_type": "code",
   "execution_count": 47,
   "metadata": {},
   "outputs": [
    {
     "data": {
      "text/plain": [
       "RandomForestClassifier(bootstrap=True, ccp_alpha=0.0, class_weight=None,\n",
       "                       criterion='gini', max_depth=None, max_features='auto',\n",
       "                       max_leaf_nodes=None, max_samples=None,\n",
       "                       min_impurity_decrease=0.0, min_impurity_split=None,\n",
       "                       min_samples_leaf=10, min_samples_split=2,\n",
       "                       min_weight_fraction_leaf=0.0, n_estimators=100,\n",
       "                       n_jobs=None, oob_score=False, random_state=None,\n",
       "                       verbose=0, warm_start=False)"
      ]
     },
     "execution_count": 47,
     "metadata": {},
     "output_type": "execute_result"
    }
   ],
   "source": [
    "model8= RandomForestClassifier(n_estimators=100,min_samples_leaf = 10)\n",
    "model8.fit(train_x,train_y)"
   ]
  },
  {
   "cell_type": "code",
   "execution_count": 48,
   "metadata": {},
   "outputs": [
    {
     "data": {
      "text/plain": [
       "0.7692307692307693"
      ]
     },
     "execution_count": 48,
     "metadata": {},
     "output_type": "execute_result"
    }
   ],
   "source": [
    "model8.score(test_x,test_y)"
   ]
  },
  {
   "cell_type": "code",
   "execution_count": 49,
   "metadata": {},
   "outputs": [
    {
     "data": {
      "text/plain": [
       "RandomForestClassifier(bootstrap=True, ccp_alpha=0.0, class_weight=None,\n",
       "                       criterion='gini', max_depth=None, max_features='auto',\n",
       "                       max_leaf_nodes=None, max_samples=None,\n",
       "                       min_impurity_decrease=0.0, min_impurity_split=None,\n",
       "                       min_samples_leaf=20, min_samples_split=2,\n",
       "                       min_weight_fraction_leaf=0.0, n_estimators=100,\n",
       "                       n_jobs=None, oob_score=False, random_state=None,\n",
       "                       verbose=0, warm_start=False)"
      ]
     },
     "execution_count": 49,
     "metadata": {},
     "output_type": "execute_result"
    }
   ],
   "source": [
    "model9= RandomForestClassifier(n_estimators=100,min_samples_leaf = 20)\n",
    "model9.fit(train_x,train_y)"
   ]
  },
  {
   "cell_type": "code",
   "execution_count": 50,
   "metadata": {},
   "outputs": [
    {
     "data": {
      "text/plain": [
       "0.7153846153846154"
      ]
     },
     "execution_count": 50,
     "metadata": {},
     "output_type": "execute_result"
    }
   ],
   "source": [
    "model9.score(test_x,test_y)"
   ]
  },
  {
   "cell_type": "code",
   "execution_count": 51,
   "metadata": {},
   "outputs": [
    {
     "data": {
      "text/plain": [
       "RandomForestClassifier(bootstrap=True, ccp_alpha=0.0, class_weight=None,\n",
       "                       criterion='gini', max_depth=None, max_features='auto',\n",
       "                       max_leaf_nodes=None, max_samples=None,\n",
       "                       min_impurity_decrease=0.0, min_impurity_split=None,\n",
       "                       min_samples_leaf=1, min_samples_split=2,\n",
       "                       min_weight_fraction_leaf=0.0, n_estimators=500,\n",
       "                       n_jobs=None, oob_score=False, random_state=None,\n",
       "                       verbose=0, warm_start=False)"
      ]
     },
     "execution_count": 51,
     "metadata": {},
     "output_type": "execute_result"
    }
   ],
   "source": [
    "model10= RandomForestClassifier(n_estimators=500,min_samples_leaf = 1)\n",
    "model10.fit(train_x,train_y)"
   ]
  },
  {
   "cell_type": "code",
   "execution_count": 52,
   "metadata": {},
   "outputs": [
    {
     "data": {
      "text/plain": [
       "0.8272189349112427"
      ]
     },
     "execution_count": 52,
     "metadata": {},
     "output_type": "execute_result"
    }
   ],
   "source": [
    "model10.score(test_x,test_y)"
   ]
  },
  {
   "cell_type": "code",
   "execution_count": 54,
   "metadata": {},
   "outputs": [
    {
     "data": {
      "text/plain": [
       "RandomForestClassifier(bootstrap=True, ccp_alpha=0.0, class_weight=None,\n",
       "                       criterion='gini', max_depth=None, max_features='auto',\n",
       "                       max_leaf_nodes=None, max_samples=None,\n",
       "                       min_impurity_decrease=0.0, min_impurity_split=None,\n",
       "                       min_samples_leaf=10, min_samples_split=2,\n",
       "                       min_weight_fraction_leaf=0.0, n_estimators=500,\n",
       "                       n_jobs=None, oob_score=False, random_state=None,\n",
       "                       verbose=0, warm_start=False)"
      ]
     },
     "execution_count": 54,
     "metadata": {},
     "output_type": "execute_result"
    }
   ],
   "source": [
    "model11= RandomForestClassifier(n_estimators=500,min_samples_leaf = 10)\n",
    "model11.fit(train_x,train_y)"
   ]
  },
  {
   "cell_type": "code",
   "execution_count": 55,
   "metadata": {},
   "outputs": [
    {
     "data": {
      "text/plain": [
       "0.7710059171597633"
      ]
     },
     "execution_count": 55,
     "metadata": {},
     "output_type": "execute_result"
    }
   ],
   "source": [
    "model11.score(test_x,test_y)"
   ]
  },
  {
   "cell_type": "code",
   "execution_count": 56,
   "metadata": {},
   "outputs": [
    {
     "data": {
      "text/plain": [
       "RandomForestClassifier(bootstrap=True, ccp_alpha=0.0, class_weight=None,\n",
       "                       criterion='gini', max_depth=None, max_features='auto',\n",
       "                       max_leaf_nodes=None, max_samples=None,\n",
       "                       min_impurity_decrease=0.0, min_impurity_split=None,\n",
       "                       min_samples_leaf=20, min_samples_split=2,\n",
       "                       min_weight_fraction_leaf=0.0, n_estimators=500,\n",
       "                       n_jobs=None, oob_score=False, random_state=None,\n",
       "                       verbose=0, warm_start=False)"
      ]
     },
     "execution_count": 56,
     "metadata": {},
     "output_type": "execute_result"
    }
   ],
   "source": [
    "model12= RandomForestClassifier(n_estimators=500,min_samples_leaf = 20)\n",
    "model12.fit(train_x,train_y)"
   ]
  },
  {
   "cell_type": "code",
   "execution_count": 57,
   "metadata": {},
   "outputs": [
    {
     "data": {
      "text/plain": [
       "0.6840236686390533"
      ]
     },
     "execution_count": 57,
     "metadata": {},
     "output_type": "execute_result"
    }
   ],
   "source": [
    "model12.score(test_x,test_y)"
   ]
  },
  {
   "cell_type": "markdown",
   "metadata": {},
   "source": [
    "OUT OF ALL THE CASES , CASE WITH N_ESTIMATORS = 500 AND MIN_SAMPLES_LEAF=1 HAS THE MOST ACCURACY AS 82%\n"
   ]
  },
  {
   "cell_type": "code",
   "execution_count": null,
   "metadata": {},
   "outputs": [],
   "source": []
  }
 ],
 "metadata": {
  "kernelspec": {
   "display_name": "Python 3",
   "language": "python",
   "name": "python3"
  },
  "language_info": {
   "codemirror_mode": {
    "name": "ipython",
    "version": 3
   },
   "file_extension": ".py",
   "mimetype": "text/x-python",
   "name": "python",
   "nbconvert_exporter": "python",
   "pygments_lexer": "ipython3",
   "version": "3.7.6"
  }
 },
 "nbformat": 4,
 "nbformat_minor": 4
}
